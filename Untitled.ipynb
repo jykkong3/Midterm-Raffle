{
  "nbformat": 4,
  "nbformat_minor": 0,
  "metadata": {
    "colab": {
      "name": "Untitled",
      "provenance": [],
      "collapsed_sections": []
    },
    "kernelspec": {
      "name": "python3",
      "display_name": "Python 3"
    },
    "language_info": {
      "name": "python"
    }
  },
  "cells": [
    {
      "cell_type": "code",
      "execution_count": null,
      "metadata": {
        "id": "pmZRyOJ1Q3rh"
      },
      "outputs": [],
      "source": [
        ""
      ]
    },
    {
      "cell_type": "markdown",
      "source": [
        "Objective: Randomly choose 3 winners to win the T shirt."
      ],
      "metadata": {
        "id": "RRWZc8y7RO_0"
      }
    },
    {
      "cell_type": "code",
      "source": [
        "#1. Collect data: the ones who participate the meeting\n",
        "#2. Build an algorithm to randomly select 3 winners out of the collected data"
      ],
      "metadata": {
        "id": "zp1edtlHRWz1"
      },
      "execution_count": null,
      "outputs": []
    },
    {
      "cell_type": "code",
      "source": [
        "#Let's use data type :list for the data"
      ],
      "metadata": {
        "id": "PCnUqGLMR2IB"
      },
      "execution_count": null,
      "outputs": []
    },
    {
      "cell_type": "code",
      "source": [
        "f= open(\"choose.txt\",\"r\")\n",
        "data =f.readlines()\n",
        "\n",
        "lst=[]\n",
        "\n",
        "for i in range(0, len(data), 2):\n",
        "  lst.append(data[i].strip().split())\n",
        "\n",
        "import random\n",
        "random.sample(lst,k=3)\n",
        "\n",
        "\n"
      ],
      "metadata": {
        "colab": {
          "base_uri": "https://localhost:8080/"
        },
        "id": "9SPxDkg3SJ_S",
        "outputId": "0bece223-9c90-40d5-c913-1c18fbe40537"
      },
      "execution_count": null,
      "outputs": [
        {
          "output_type": "execute_result",
          "data": {
            "text/plain": [
              "[['Jackson'], ['Oliver'], ['Muhammad']]"
            ]
          },
          "metadata": {},
          "execution_count": 34
        }
      ]
    },
    {
      "cell_type": "code",
      "source": [
        "data"
      ],
      "metadata": {
        "colab": {
          "base_uri": "https://localhost:8080/"
        },
        "id": "cSUBk-bdUTbn",
        "outputId": "00c4e706-e5c1-47b8-ba65-e8cc5379f932"
      },
      "execution_count": null,
      "outputs": [
        {
          "output_type": "execute_result",
          "data": {
            "text/plain": [
              "['Jason\\n',\n",
              " 'done\\n',\n",
              " 'Jackson\\n',\n",
              " 'done\\n',\n",
              " 'Oliver\\n',\n",
              " 'Done\\n',\n",
              " 'Money\\n',\n",
              " 'Done\\n',\n",
              " 'Ramly\\n',\n",
              " 'done\\n',\n",
              " 'Ali\\n',\n",
              " 'Done\\n',\n",
              " 'Muhammad\\n',\n",
              " 'Done\\n',\n",
              " 'Ah sheng\\n',\n",
              " 'Done\\n',\n",
              " 'NAnshen\\n',\n",
              " 'Done \\n',\n",
              " 'Ah yong\\n',\n",
              " 'Done \\n',\n",
              " 'Joshua \\n',\n",
              " 'Done \\n',\n",
              " 'Jeremy\\n',\n",
              " 'DOne']"
            ]
          },
          "metadata": {},
          "execution_count": 26
        }
      ]
    },
    {
      "cell_type": "code",
      "source": [
        "lst= []\n",
        "for i in range(0,len(data),2):\n",
        "  lst.append(data[i].strip().split())\n",
        "\n",
        "lst\n"
      ],
      "metadata": {
        "colab": {
          "base_uri": "https://localhost:8080/"
        },
        "id": "NNYl1S2BTsJQ",
        "outputId": "e8fb14b9-1744-4dc0-bc5f-399a211bf577"
      },
      "execution_count": null,
      "outputs": [
        {
          "output_type": "execute_result",
          "data": {
            "text/plain": [
              "[['Jason'],\n",
              " ['Jackson'],\n",
              " ['Oliver'],\n",
              " ['Money'],\n",
              " ['Ramly'],\n",
              " ['Ali'],\n",
              " ['Muhammad'],\n",
              " ['Ah', 'sheng'],\n",
              " ['NAnshen'],\n",
              " ['Ah', 'yong'],\n",
              " ['Joshua'],\n",
              " ['Jeremy']]"
            ]
          },
          "metadata": {},
          "execution_count": 27
        }
      ]
    },
    {
      "cell_type": "code",
      "source": [
        "import random \n",
        "\n",
        "random.sample(lst,k=3 )"
      ],
      "metadata": {
        "colab": {
          "base_uri": "https://localhost:8080/"
        },
        "id": "ICv7ARdPX-mX",
        "outputId": "6f990654-223f-4619-ab1c-a3dfa37dfb32"
      },
      "execution_count": null,
      "outputs": [
        {
          "output_type": "execute_result",
          "data": {
            "text/plain": [
              "[['Ali'], ['Jackson'], ['Joshua']]"
            ]
          },
          "metadata": {},
          "execution_count": 30
        }
      ]
    }
  ]
}